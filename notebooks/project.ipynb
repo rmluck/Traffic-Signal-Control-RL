{
 "cells": [
  {
   "cell_type": "code",
   "execution_count": 1,
   "metadata": {},
   "outputs": [],
   "source": [
    "# Import required libraries\n",
    "import os\n",
    "import numpy as np\n",
    "import pandas as pd\n",
    "import matplotlib.pyplot as plt\n",
    "import ray\n",
    "import sys\n",
    "from pathlib import Path\n",
    "\n",
    "sys.path.append(\"../scripts\")"
   ]
  },
  {
   "cell_type": "code",
   "execution_count": 2,
   "metadata": {},
   "outputs": [],
   "source": [
    "# Load Python scripts\n",
    "from traffic_env import TrafficSignalEnv, fixed_signal_control\n",
    "from traffic_env_ppo import evaluate_policy"
   ]
  },
  {
   "cell_type": "code",
   "execution_count": 3,
   "metadata": {},
   "outputs": [],
   "source": [
    "# Load sample configuration and road network files\n",
    "CONFIG_FILE = \"../configs/training/training_config.json\"\n",
    "ROAD_NETWORK_FILE = \"../configs/training/training_road_network.json\""
   ]
  },
  {
   "cell_type": "code",
   "execution_count": 4,
   "metadata": {},
   "outputs": [],
   "source": [
    "# Initialize the environment\n",
    "MAX_STEPS = 1000\n",
    "environment_configuration = {\n",
    "    \"max_steps\": MAX_STEPS,\n",
    "    \"config_file\": CONFIG_FILE,\n",
    "    \"road_network_file\": ROAD_NETWORK_FILE,\n",
    "}\n",
    "\n",
    "test_environment = TrafficSignalEnv(**environment_configuration)"
   ]
  },
  {
   "cell_type": "code",
   "execution_count": 5,
   "metadata": {},
   "outputs": [
    {
     "name": "stdout",
     "output_type": "stream",
     "text": [
      "Running fixed signal control...\n",
      "Total reward for fixed signal control: 992.3322697417516\n"
     ]
    }
   ],
   "source": [
    "# Run a simulation using a fixed signal control baseline\n",
    "print(\"Running fixed signal control...\")\n",
    "fixed_rewards = fixed_signal_control(test_environment)\n",
    "print(f\"Total reward for fixed signal control: {fixed_rewards}\")"
   ]
  },
  {
   "cell_type": "code",
   "execution_count": null,
   "metadata": {},
   "outputs": [],
   "source": [
    "# Initialize Ray\n",
    "scripts = Path(\"../scripts\").resolve().as_posix()\n",
    "print(f\"Working directory: {scripts}\")\n",
    "ray.init(ignore_reinit_error=True, runtime_env={\"working_dir\": scripts})"
   ]
  },
  {
   "cell_type": "code",
   "execution_count": null,
   "metadata": {},
   "outputs": [],
   "source": [
    "# Run a simulation using trained PPO model\n",
    "print(\"Running pre-trained PPO model...\")\n",
    "ppo_rewards = evaluate_policy()\n",
    "print(f\"Total reward for pre-trained PPO model: {ppo_rewards}\")"
   ]
  },
  {
   "cell_type": "code",
   "execution_count": null,
   "metadata": {},
   "outputs": [],
   "source": [
    "# Load rewards data into pandas DataFrames\n",
    "fixed_rewards_df = pd.read_csv(\"../data/fixed_rewards.csv\")\n",
    "ppo_rewards_df = pd.read_csv(\"../data/ppo_rewards.csv\")\n",
    "\n",
    "# Extract step and reward columns for each DataFrame\n",
    "fixed_steps = fixed_rewards_df[\"Step\"]\n",
    "fixed_total_rewards = fixed_rewards_df[\"Total Reward\"]\n",
    "\n",
    "ppo_steps = ppo_rewards_df[\"Step\"]\n",
    "ppo_total_rewards = ppo_rewards_df[\"Total Reward\"]"
   ]
  },
  {
   "cell_type": "code",
   "execution_count": null,
   "metadata": {},
   "outputs": [],
   "source": [
    "# Create a line plot for each reward series\n",
    "plt.plot(fixed_steps, fixed_total_rewards, label=\"Fixed Signals\", color=\"b\")\n",
    "plt.plot(ppo_steps, ppo_total_rewards, label=\"PPO\", color=\"r\")\n",
    "\n",
    "plt.xlabel(\"Steps\")\n",
    "plt.ylabel(\"Total Reward\")\n",
    "plt.title(\"Reward Comparison: Fixed Signals vs PPO\")\n",
    "\n",
    "plt.legend()\n",
    "plt.show()"
   ]
  },
  {
   "cell_type": "code",
   "execution_count": null,
   "metadata": {},
   "outputs": [],
   "source": [
    "sys.path.remove(\"../scripts\")"
   ]
  }
 ],
 "metadata": {
  "kernelspec": {
   "display_name": "venv",
   "language": "python",
   "name": "python3"
  },
  "language_info": {
   "codemirror_mode": {
    "name": "ipython",
    "version": 3
   },
   "file_extension": ".py",
   "mimetype": "text/x-python",
   "name": "python",
   "nbconvert_exporter": "python",
   "pygments_lexer": "ipython3",
   "version": "3.10.4"
  }
 },
 "nbformat": 4,
 "nbformat_minor": 2
}
